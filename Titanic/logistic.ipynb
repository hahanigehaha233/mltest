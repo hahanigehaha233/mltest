{
 "cells": [
  {
   "cell_type": "code",
   "execution_count": 1,
   "metadata": {
    "slideshow": {
     "slide_type": "notes"
    }
   },
   "outputs": [
    {
     "name": "stderr",
     "output_type": "stream",
     "text": [
      "e:\\pycharmproject\\mltest\\venv\\lib\\site-packages\\sklearn\\cross_validation.py:41: DeprecationWarning: This module was deprecated in version 0.18 in favor of the model_selection module into which all the refactored classes and functions are moved. Also note that the interface of the new CV iterators are different from that of this module. This module will be removed in 0.20.\n",
      "  \"This module will be removed in 0.20.\", DeprecationWarning)\n"
     ]
    }
   ],
   "source": [
    "import pandas as pd\n",
    "import numpy as np\n",
    "from pandas import Series, DataFrame\n",
    "import matplotlib.pyplot as plt\n",
    "import sklearn.preprocessing as preprocessing\n",
    "from sklearn import linear_model\n",
    "from pylab import mpl\n",
    "from sklearn import cross_validation\n",
    "mpl.rcParams['font.sans-serif'] = ['FangSong'] # 指定默认字体\n",
    "mpl.rcParams['axes.unicode_minus'] = False # 解决保存图像是负号'-'显示为方块的问题"
   ]
  },
  {
   "cell_type": "code",
   "execution_count": 2,
   "metadata": {},
   "outputs": [
    {
     "name": "stdout",
     "output_type": "stream",
     "text": [
      "<class 'pandas.core.frame.DataFrame'>\n",
      "RangeIndex: 891 entries, 0 to 890\n",
      "Data columns (total 12 columns):\n",
      "PassengerId    891 non-null int64\n",
      "Survived       891 non-null int64\n",
      "Pclass         891 non-null int64\n",
      "Name           891 non-null object\n",
      "Sex            891 non-null object\n",
      "Age            714 non-null float64\n",
      "SibSp          891 non-null int64\n",
      "Parch          891 non-null int64\n",
      "Ticket         891 non-null object\n",
      "Fare           891 non-null float64\n",
      "Cabin          204 non-null object\n",
      "Embarked       889 non-null object\n",
      "dtypes: float64(2), int64(5), object(5)\n",
      "memory usage: 83.6+ KB\n"
     ]
    }
   ],
   "source": [
    "figsize=(12,5)\n",
    "regex_a = \"Survived|Age_.*|SibSp|Parch|Fare_.*|Cabin_*|Embarked_.*|Sex_.*|Pclass.*|AgePclass\"\n",
    "data_train = pd.read_csv('titanic_data/train.csv')\n",
    "scaler = preprocessing.StandardScaler()\n",
    "data_train.info()"
   ]
  },
  {
   "cell_type": "code",
   "execution_count": 3,
   "metadata": {},
   "outputs": [],
   "source": [
    "# The model of feture Age\n",
    "def set_Age_Gap(df):\n",
    "    df.loc[(df.Age.isnull()),'Age'] = df.Age.mean()\n",
    "    return df\n",
    "\n",
    "def set_Age_Discrete(df):\n",
    "    tmp_age = df.Age\n",
    "    factor = pd.cut(tmp_age, [0,15,70,100],labels = ['Age_young','Age_adult','Age_old'])\n",
    "    dummies_age_Discrete = pd.get_dummies(factor)\n",
    "    return dummies_age_Discrete\n"
   ]
  },
  {
   "cell_type": "code",
   "execution_count": 4,
   "metadata": {},
   "outputs": [],
   "source": [
    "# The model of feture Cabin \n",
    "def set_Cabin_type(df):\n",
    "    df.loc[ (df.Cabin.notnull()), 'Cabin' ] = \"Yes\"\n",
    "    df.loc[ (df.Cabin.isnull()), 'Cabin' ] = \"No\"\n",
    "    return df"
   ]
  },
  {
   "cell_type": "code",
   "execution_count": 5,
   "metadata": {},
   "outputs": [],
   "source": [
    "# The model of Fare\n",
    "def set_Fare_scale(df):\n",
    "    return scaler.fit_transform(df['Fare'].values.reshape(-1,1))"
   ]
  },
  {
   "cell_type": "code",
   "execution_count": 6,
   "metadata": {},
   "outputs": [],
   "source": [
    "def set_Feature(data_train):\n",
    "    data_train = set_Age_Gap(data_train)\n",
    "\n",
    "    data_train = set_Cabin_type(data_train)\n",
    "\n",
    "    dummies_Cabin = pd.get_dummies(data_train['Cabin'], prefix= 'Cabin')\n",
    "\n",
    "    dummies_Embarked = pd.get_dummies(data_train['Embarked'], prefix= 'Embarked')\n",
    "\n",
    "    dummies_Sex = pd.get_dummies(data_train['Sex'], prefix= 'Sex')\n",
    "\n",
    "    dummies_Pclass = pd.get_dummies(data_train['Pclass'], prefix= 'Pclass')\n",
    "\n",
    "    b = set_Age_Discrete(data_train)\n",
    "\n",
    "    df = pd.concat([data_train, dummies_Cabin, dummies_Embarked, dummies_Sex, dummies_Pclass,b], axis=1)\n",
    "\n",
    "    df['Fare_scaled'] = set_Fare_scale(data_train)\n",
    "\n",
    "    # New feature AgePclass from 0.77 to 0.775\n",
    "    df['AgePclass'] = df['Age']*df['Sex_female']\n",
    "    df.drop(['Pclass', 'Name', 'Sex', 'Ticket', 'Cabin', 'Embarked','Fare','Age'], axis=1, inplace=True)\n",
    "    \n",
    "    return df"
   ]
  },
  {
   "cell_type": "code",
   "execution_count": 7,
   "metadata": {},
   "outputs": [],
   "source": [
    "def get_X_y(df):\n",
    "    train_np = df.filter(regex=regex_a).values\n",
    "    \n",
    "    X = train_np[:,1:]\n",
    "    \n",
    "    y = train_np[:,0]\n",
    "    \n",
    "    return X,y"
   ]
  },
  {
   "cell_type": "code",
   "execution_count": 8,
   "metadata": {},
   "outputs": [
    {
     "data": {
      "text/plain": [
       "LogisticRegression(C=0.5, class_weight=None, dual=False, fit_intercept=True,\n",
       "          intercept_scaling=1, max_iter=100, multi_class='ovr', n_jobs=1,\n",
       "          penalty='l1', random_state=None, solver='liblinear', tol=1e-06,\n",
       "          verbose=0, warm_start=False)"
      ]
     },
     "execution_count": 8,
     "metadata": {},
     "output_type": "execute_result"
    }
   ],
   "source": [
    "\n",
    "df = set_Feature(data_train=data_train)\n",
    "# 用正则取出我们要的属性值\n",
    "X,y = get_X_y(df)\n",
    "\n",
    "# fit到RandomForestRegressor之中\n",
    "clf = linear_model.LogisticRegression(C=0.5,penalty='l1',tol=1e-6)\n",
    "clf.fit(X, y)\n",
    "\n",
    "clf"
   ]
  },
  {
   "cell_type": "code",
   "execution_count": 10,
   "metadata": {},
   "outputs": [
    {
     "data": {
      "text/plain": [
       "Pipeline(memory=None,\n",
       "     steps=[('clf', LogisticRegression(C=1000.0, class_weight=None, dual=False,\n",
       "          fit_intercept=True, intercept_scaling=1, max_iter=100,\n",
       "          multi_class='ovr', n_jobs=1, penalty='l2', random_state=None,\n",
       "          solver='liblinear', tol=0.0001, verbose=0, warm_start=False))])"
      ]
     },
     "execution_count": 10,
     "metadata": {},
     "output_type": "execute_result"
    }
   ],
   "source": [
    "# 对cross validation数据进行预测\n",
    "from sklearn.preprocessing import StandardScaler\n",
    "from sklearn.decomposition import PCA\n",
    "from sklearn.linear_model import LogisticRegression\n",
    "from sklearn.pipeline import Pipeline\n",
    "pipe_titanic = Pipeline([\n",
    "                        ('clf',LogisticRegression(C=1000.0,penalty='l2',tol=1e-4))])\n",
    "pipe_titanic.fit(X,y)\n"
   ]
  },
  {
   "cell_type": "code",
   "execution_count": 14,
   "metadata": {},
   "outputs": [
    {
     "name": "stdout",
     "output_type": "stream",
     "text": [
      "<class 'pandas.core.frame.DataFrame'>\n",
      "RangeIndex: 418 entries, 0 to 417\n",
      "Data columns (total 17 columns):\n",
      "SibSp          418 non-null int64\n",
      "Parch          418 non-null int64\n",
      "Cabin_No       418 non-null uint8\n",
      "Cabin_Yes      418 non-null uint8\n",
      "Embarked_C     418 non-null uint8\n",
      "Embarked_Q     418 non-null uint8\n",
      "Embarked_S     418 non-null uint8\n",
      "Sex_female     418 non-null uint8\n",
      "Sex_male       418 non-null uint8\n",
      "Pclass_1       418 non-null uint8\n",
      "Pclass_2       418 non-null uint8\n",
      "Pclass_3       418 non-null uint8\n",
      "Age_young      418 non-null uint8\n",
      "Age_adult      418 non-null uint8\n",
      "Age_old        418 non-null uint8\n",
      "Fare_scaled    418 non-null float64\n",
      "AgePclass      418 non-null float64\n",
      "dtypes: float64(2), int64(2), uint8(13)\n",
      "memory usage: 18.4 KB\n"
     ]
    }
   ],
   "source": [
    "data_test = pd.read_csv(\"Titanic_data/test.csv\")\n",
    "data_test.loc[ (data_test.Fare.isnull()), 'Fare' ] = 0\n",
    "df_test = set_Feature(data_test)\n",
    "test = df_test.filter(regex=regex_a)\n",
    "predictions = clf.predict(test)\n",
    "result = pd.DataFrame({'PassengerId':data_test['PassengerId'].values, 'Survived':predictions.astype(np.int32)})\n",
    "result.to_csv(\"Titanic_data/pip.csv\", index=False)\n",
    "test.info()"
   ]
  }
 ],
 "metadata": {
  "kernelspec": {
   "display_name": "Python 3",
   "language": "python",
   "name": "python3"
  },
  "language_info": {
   "codemirror_mode": {
    "name": "ipython",
    "version": 3
   },
   "file_extension": ".py",
   "mimetype": "text/x-python",
   "name": "python",
   "nbconvert_exporter": "python",
   "pygments_lexer": "ipython3",
   "version": "3.6.5"
  }
 },
 "nbformat": 4,
 "nbformat_minor": 2
}
