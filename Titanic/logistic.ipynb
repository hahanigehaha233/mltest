{
 "cells": [
  {
   "cell_type": "code",
   "execution_count": 2,
   "metadata": {
    "slideshow": {
     "slide_type": "notes"
    }
   },
   "outputs": [
    {
     "name": "stderr",
     "output_type": "stream",
     "text": [
      "e:\\pycharmproject\\mltest\\venv\\lib\\site-packages\\sklearn\\cross_validation.py:41: DeprecationWarning: This module was deprecated in version 0.18 in favor of the model_selection module into which all the refactored classes and functions are moved. Also note that the interface of the new CV iterators are different from that of this module. This module will be removed in 0.20.\n",
      "  \"This module will be removed in 0.20.\", DeprecationWarning)\n"
     ]
    }
   ],
   "source": [
    "import pandas as pd\n",
    "import numpy as np\n",
    "from pandas import Series, DataFrame\n",
    "import matplotlib.pyplot as plt\n",
    "import sklearn.preprocessing as preprocessing\n",
    "from sklearn import linear_model\n",
    "from pylab import mpl\n",
    "mpl.rcParams['font.sans-serif'] = ['FangSong'] # 指定默认字体\n",
    "mpl.rcParams['axes.unicode_minus'] = False # 解决保存图像是负号'-'显示为方块的问题\n",
    "from sklearn.cross_validation import train_test_split"
   ]
  },
  {
   "cell_type": "code",
   "execution_count": 92,
   "metadata": {},
   "outputs": [],
   "source": [
    "figsize=(12,5)\n",
    "regex_a = \"Survived|Age_*|SibSp|Parch_*|Fare_.*|Cabin_*|Embarked_.*|Sex_.*|Pclass.*|Age_Pclass_scaled|Age_Sex_female_scaled\"\n",
    "age_filter_train = ['Age','Survived','Fare', 'Parch', 'SibSp', 'Pclass']\n",
    "age_filter_test = ['Age','Fare', 'Parch', 'SibSp', 'Pclass']\n",
    "scaler = preprocessing.StandardScaler()"
   ]
  },
  {
   "cell_type": "code",
   "execution_count": 102,
   "metadata": {},
   "outputs": [],
   "source": [
    "# The model of feture Age\n",
    "def set_Age_Gap(df):\n",
    "    from sklearn.ensemble import RandomForestRegressor\n",
    "    if(\"Survived\" in df.columns):\n",
    "        age_df = df[age_filter_train]\n",
    "    else:\n",
    "        age_df = df[age_filter_test]\n",
    "    age_df_notnull = age_df.loc[(df['Age'].notnull())]\n",
    "    age_df_isnull = age_df.loc[(df['Age'].isnull())]\n",
    "    X = age_df_notnull.values[:,1:]\n",
    "    Y = age_df_notnull.values[:,0]\n",
    "    # use RandomForestRegression to train data\n",
    "    RFR = RandomForestRegressor(n_estimators=1000, n_jobs=-1)\n",
    "    RFR.fit(X,Y)\n",
    "    predictAges = RFR.predict(age_df_isnull.values[:,1:])\n",
    "    df.loc[df['Age'].isnull(), ['Age']]= predictAges\n",
    "    #df.loc[(df.Age.isnull()),'Age'] = df.Age.mean()\n",
    "    return df\n",
    "\n",
    "def set_Age_Discrete(df):\n",
    "    tmp_age = df.Age\n",
    "    factor = pd.cut(tmp_age, [0,12,70,150],labels = ['Age_young','Age_adult','Age_old'])\n",
    "    dummies_age_Discrete = pd.get_dummies(factor)\n",
    "    return dummies_age_Discrete\n"
   ]
  },
  {
   "cell_type": "code",
   "execution_count": 5,
   "metadata": {},
   "outputs": [],
   "source": [
    "# The model of feture Cabin \n",
    "def set_Cabin_type(df):\n",
    "    if(df.Cabin.isnull().any()):\n",
    "        df.loc[ (df.Cabin.notnull()), 'Cabin' ] = \"Yes\"\n",
    "        df.loc[ (df.Cabin.isnull()), 'Cabin' ] = \"No\"\n",
    "    return df"
   ]
  },
  {
   "cell_type": "code",
   "execution_count": 6,
   "metadata": {},
   "outputs": [],
   "source": [
    "# The model of Fare\n",
    "def set_Scale(df,name):\n",
    "    return scaler.fit_transform(df[name].values.reshape(-1,1))"
   ]
  },
  {
   "cell_type": "code",
   "execution_count": 51,
   "metadata": {},
   "outputs": [],
   "source": [
    "def set_Feature(data):\n",
    "    data = set_Age_Gap(data)\n",
    "\n",
    "    data = set_Cabin_type(data)\n",
    "\n",
    "    dummies_Cabin = pd.get_dummies(data['Cabin'], prefix= 'Cabin')\n",
    "\n",
    "    dummies_Embarked = pd.get_dummies(data['Embarked'], prefix= 'Embarked')\n",
    "\n",
    "    dummies_Sex = pd.get_dummies(data['Sex'], prefix= 'Sex')\n",
    "\n",
    "    dummies_Pclass = pd.get_dummies(data['Pclass'], prefix= 'Pclass')\n",
    "\n",
    "    b = set_Age_Discrete(data)\n",
    "\n",
    "    df = pd.concat([data, dummies_Cabin, dummies_Embarked, dummies_Sex, dummies_Pclass, b], axis=1)\n",
    "\n",
    "    df['Fare_scaled'] = set_Scale(df,\"Fare\")\n",
    "\n",
    "    df['Age_Sex_female'] = df['Age']*df['Sex_female']\n",
    "    df['Age_Sex_female_scaled'] = set_Scale(df,\"Age_Sex_female\")\n",
    "    df['Age_Pclass'] = df['Age']*df['Pclass']\n",
    "    df['Age_Pclass_scaled'] = set_Scale(df,\"Age_Pclass\")\n",
    "    df.drop(['Age_Pclass','Age_Sex_female','Pclass','Cabin', 'Name', 'Sex', 'Ticket', 'Embarked','Fare','Age'], axis=1, inplace=True)\n",
    "    \n",
    "    return df"
   ]
  },
  {
   "cell_type": "code",
   "execution_count": 8,
   "metadata": {},
   "outputs": [],
   "source": [
    "def get_Feature(data,regex):\n",
    "    return set_Feature(data).filter(regex=regex_a)"
   ]
  },
  {
   "cell_type": "code",
   "execution_count": 9,
   "metadata": {},
   "outputs": [],
   "source": [
    "def get_X_y(df):\n",
    "    train_np = df.values\n",
    "    X = train_np[:,1:]\n",
    "    \n",
    "    y = train_np[:,0]\n",
    "    \n",
    "    return X,y"
   ]
  },
  {
   "cell_type": "code",
   "execution_count": 111,
   "metadata": {},
   "outputs": [],
   "source": [
    "data = pd.read_csv('titanic_data/train.csv')\n",
    "df = get_Feature(data,regex_a)\n",
    "X_train,X_test,y_train,y_test = train_test_split(df.iloc[:,1:],df.iloc[:,0],test_size=0.8,random_state=1)\n",
    "#X_train"
   ]
  },
  {
   "cell_type": "code",
   "execution_count": 112,
   "metadata": {},
   "outputs": [
    {
     "data": {
      "text/plain": [
       "0.8064516129032258"
      ]
     },
     "execution_count": 112,
     "metadata": {},
     "output_type": "execute_result"
    }
   ],
   "source": [
    "# 对cross validation数据进行预测\n",
    "from sklearn.preprocessing import StandardScaler\n",
    "from sklearn.decomposition import PCA\n",
    "from sklearn.linear_model import LogisticRegression\n",
    "from sklearn.pipeline import Pipeline\n",
    "pipe_titanic = Pipeline([\n",
    "                        ('clf',LogisticRegression(C=10.0,penalty='l2',tol=1e-6))])\n",
    "pipe_titanic.fit(X_train,y_train)\n",
    "pipe_titanic.score(X_test,y_test)\n",
    "#pd.DataFrame({\"columns\":list(npp.columns)[1:], \"coef\":list(pipe_titanic.named_steps['clf'].coef_.T)})"
   ]
  },
  {
   "cell_type": "code",
   "execution_count": 318,
   "metadata": {},
   "outputs": [],
   "source": [
    "pipe_titanic.get_params();"
   ]
  },
  {
   "cell_type": "code",
   "execution_count": 114,
   "metadata": {},
   "outputs": [
    {
     "data": {
      "image/png": "[encoded data removed]",
      "text/plain": [
       "<Figure size 432x288 with 1 Axes>"
      ]
     },
     "metadata": {},
     "output_type": "display_data"
    },
    {
     "name": "stderr",
     "output_type": "stream",
     "text": [
      "e:\\pycharmproject\\mltest\\venv\\lib\\site-packages\\matplotlib\\mathtext.py:849: MathTextWarning: Font 'default' does not have a glyph for '-' [U+2212]\n",
      "  MathTextWarning)\n",
      "e:\\pycharmproject\\mltest\\venv\\lib\\site-packages\\matplotlib\\mathtext.py:850: MathTextWarning: Substituting with a dummy symbol.\n",
      "  warn(\"Substituting with a dummy symbol.\", MathTextWarning)\n"
     ]
    },
    {
     "data": {
      "image/png": "[encoded data removed]",
      "text/plain": [
       "<Figure size 432x288 with 1 Axes>"
      ]
     },
     "metadata": {},
     "output_type": "display_data"
    }
   ],
   "source": [
    "from sklearn.learning_curve import learning_curve\n",
    "train_size, train_scores, test_scores = learning_curve(estimator=pipe_titanic,\n",
    "                                                      X=X_train,\n",
    "                                                      y=y_train,\n",
    "                                                      train_sizes=np.linspace(0.1,1.0,10),\n",
    "                                                      cv=10,\n",
    "                                                      n_jobs=1)\n",
    "\n",
    "train_mean = np.mean(train_scores, axis=1)\n",
    "train_std = np.std(train_scores, axis=1)\n",
    "test_mean = np.mean(test_scores, axis=1)\n",
    "test_std = np.std(test_scores,axis=1)\n",
    "plt.plot(train_size, train_mean,\n",
    "        color = 'blue', marker='o',\n",
    "        markersize=5,label = 'Training accuracy')\n",
    "plt.plot(train_size, test_mean,\n",
    "        color='green',linestyle='--',\n",
    "        marker='s',markersize=5,\n",
    "        label='validation accuracy')\n",
    "plt.grid()\n",
    "plt.xlabel('Number of training samples')\n",
    "plt.ylabel('Accuracy')\n",
    "plt.legend(loc = \"upper right\")\n",
    "plt.ylim([0.6,1.0])\n",
    "plt.show()\n",
    "\n",
    "from sklearn.learning_curve import validation_curve\n",
    "param_range = [0.001,0.01,0.1,1.0,10.0,100.0,1000.0]\n",
    "train_scores,test_scores=validation_curve(estimator = pipe_titanic,\n",
    "                                          X = X_train,\n",
    "                                          y=y_train,\n",
    "                                          param_name='clf__C',\n",
    "                                          param_range = param_range,\n",
    "                                          cv = 6\n",
    "                    )\n",
    "train_mean = np.mean(train_scores, axis=1)\n",
    "train_std = np.std(train_scores, axis=1)\n",
    "test_mean = np.mean(test_scores, axis=1)\n",
    "test_std = np.std(test_scores,axis=1)\n",
    "plt.plot(param_range, train_mean,\n",
    "        color = 'blue', marker='o',\n",
    "        markersize=5,label = 'Training accuracy')\n",
    "plt.plot(param_range, test_mean,\n",
    "        color='green',linestyle='--',\n",
    "        marker='s',markersize=5,\n",
    "        label='validation accuracy')\n",
    "plt.grid()\n",
    "plt.xscale('log')\n",
    "plt.xlabel('Parameter C')\n",
    "plt.ylabel('Accuracy')\n",
    "plt.legend(loc = \"upper right\")\n",
    "plt.ylim([0.6,1.0])\n",
    "plt.show()"
   ]
  },
  {
   "cell_type": "code",
   "execution_count": 113,
   "metadata": {},
   "outputs": [],
   "source": [
    "data_result = pd.read_csv(\"Titanic_data/test.csv\")\n",
    "data_result.loc[ (data_result.Fare.isnull()), 'Fare' ] = 0\n",
    "data_pre = get_Feature(data_result,regex_a)\n",
    "predictions = pipe_titanic.predict(data_pre)\n",
    "result = pd.DataFrame({'PassengerId':data_result['PassengerId'].values, 'Survived':predictions.astype(np.int32)})\n",
    "result.to_csv(\"Titanic_data/7+3Ageforrf.csv\", index=False)"
   ]
  }
 ],
 "metadata": {
  "kernelspec": {
   "display_name": "Python 3",
   "language": "python",
   "name": "python3"
  },
  "language_info": {
   "codemirror_mode": {
    "name": "ipython",
    "version": 3
   },
   "file_extension": ".py",
   "mimetype": "text/x-python",
   "name": "python",
   "nbconvert_exporter": "python",
   "pygments_lexer": "ipython3",
   "version": "3.6.5"
  }
 },
 "nbformat": 4,
 "nbformat_minor": 2
}
